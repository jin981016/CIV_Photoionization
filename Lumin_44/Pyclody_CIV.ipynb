{
 "cells": [
  {
   "cell_type": "code",
   "execution_count": 1,
   "metadata": {},
   "outputs": [
    {
     "name": "stdout",
     "output_type": "stream",
     "text": [
      "warng CloudyModel Lumin_42: Lumin_42.out NOT read.\n"
     ]
    },
    {
     "ename": "AttributeError",
     "evalue": "'CloudyModel' object has no attribute 'emis_labels'",
     "output_type": "error",
     "traceback": [
      "\u001b[0;31m---------------------------------------------------------------------------\u001b[0m",
      "\u001b[0;31mAttributeError\u001b[0m                            Traceback (most recent call last)",
      "Cell \u001b[0;32mIn[1], line 12\u001b[0m\n\u001b[1;32m     10\u001b[0m fn_result \u001b[39m=\u001b[39m \u001b[39mstr\u001b[39m(\u001b[39m'\u001b[39m\u001b[39mLumin_42\u001b[39m\u001b[39m'\u001b[39m)\n\u001b[1;32m     11\u001b[0m Mod \u001b[39m=\u001b[39m pc\u001b[39m.\u001b[39mCloudyModel(fn_result)\n\u001b[0;32m---> 12\u001b[0m Mod\u001b[39m.\u001b[39;49mprint_lines()\n\u001b[1;32m     13\u001b[0m A \u001b[39m=\u001b[39m Mod\u001b[39m.\u001b[39mn_ions\n\u001b[1;32m     14\u001b[0m \u001b[39m#print(A)\u001b[39;00m\n",
      "File \u001b[0;32m~/.local/lib/python3.10/site-packages/pyCloudy/c1d/cloudy_model.py:1994\u001b[0m, in \u001b[0;36mCloudyModel.print_lines\u001b[0;34m(self, ref, norm, at_earth, use_emis)\u001b[0m\n\u001b[1;32m   1992\u001b[0m \u001b[39melse\u001b[39;00m:\n\u001b[1;32m   1993\u001b[0m     \u001b[39mif\u001b[39;00m use_emis:\n\u001b[0;32m-> 1994\u001b[0m         \u001b[39mfor\u001b[39;00m em \u001b[39min\u001b[39;00m \u001b[39mself\u001b[39;49m\u001b[39m.\u001b[39;49memis_labels:\n\u001b[1;32m   1995\u001b[0m             \u001b[39mself\u001b[39m\u001b[39m.\u001b[39mprint_lines(em, norm\u001b[39m=\u001b[39mnorm, at_earth \u001b[39m=\u001b[39m at_earth, use_emis \u001b[39m=\u001b[39m use_emis)\n\u001b[1;32m   1996\u001b[0m     \u001b[39melse\u001b[39;00m:\n",
      "\u001b[0;31mAttributeError\u001b[0m: 'CloudyModel' object has no attribute 'emis_labels'"
     ]
    }
   ],
   "source": [
    "import numpy as np                                                                        \n",
    "import matplotlib.pyplot as plt\n",
    "import pyCloudy as pc\n",
    "import pyneb as pn\n",
    "from astropy import units as u\n",
    "\n",
    "\n",
    "\n",
    "\n",
    "fn_result = str('Lumin_42')\n",
    "Mod = pc.CloudyModel(fn_result)\n",
    "Mod.print_lines()\n",
    "A = Mod.n_ions\n",
    "#print(A)\n",
    "Mod.ionic_names\n",
    "Lum_Lya = float(Mod.get_emis_vol('H__1_121567A'))\n",
    "\n",
    "Lum_O6 = float(Mod.get_emis_vol('O__6_103191A')) + float(Mod.get_emis_vol('O__6_103762A'))\n",
    "Lum_C4 = float(Mod.get_emis_vol('C__4_154819A')) + float(Mod.get_emis_vol('C__4_155078A'))\n",
    "Lum_N5 = float(Mod.get_emis_vol('N__5_123882A')) + float(Mod.get_emis_vol('N__5_124280A'))\n",
    "Lum_Mg2 = float(Mod.get_emis_vol('MG_2_279553A'))+ float(Mod.get_emis_vol('MG_2_280271A'))\n",
    "\n",
    "\n",
    "\n",
    "\n",
    "#print(np.sum(Mod.dr*Mod.nH))\n",
    "\n",
    "N_H = sum(Mod.dr*Mod.nH)\n",
    "frac_C = 2.45E-04\n",
    "frac_O = 4.90E-04\n",
    "frac_N = 8.51E-05\n",
    "frac_Mg = 3.47E-05\n",
    "\n",
    "N_HI = sum(Mod.dr*Mod.nH*Mod.get_ionic('H',0))\n",
    "N_HII = sum(Mod.dr*Mod.nH*Mod.get_ionic('H',1))\n",
    "N_OVI = frac_O*sum(Mod.dr*Mod.nH*Mod.get_ionic('O',5))\n",
    "N_NV = frac_N*sum(Mod.dr*Mod.nH*Mod.get_ionic('N',4))\n",
    "N_CIV = frac_C*sum(Mod.dr*Mod.nH*Mod.get_ionic('C',3))\n",
    "\n",
    "f = open('cgm_45.ele_Mg','r')\n",
    "header = f.readline()\n",
    "frac_Mg_II = np.zeros(410)\n",
    "i = 0\n",
    "for line in f:\n",
    "    line = line.strip()\n",
    "    columns = line.split()\n",
    "    j = float(columns[2])\n",
    "    frac_Mg_II[i] = j\n",
    "    i = i + 1\n",
    "#    print(name, j)\n",
    "#print(type(frac_Mg_II))\n",
    "N_MgII = frac_Mg*sum(Mod.dr*Mod.nH*frac_Mg_II)\n",
    "\n",
    "print('N_H', N_H)\n",
    "print('Lya',Lum_Lya, N_HI)\n",
    "print('O VI',Lum_O6, N_OVI)\n",
    "print('C IV',Lum_C4, N_CIV)\n",
    "print('N V',Lum_N5, N_NV)\n",
    "print('Mg II',Lum_Mg2, N_MgII)\n",
    "\n",
    "\n",
    "\n"
   ]
  },
  {
   "cell_type": "code",
   "execution_count": null,
   "metadata": {},
   "outputs": [],
   "source": []
  }
 ],
 "metadata": {
  "kernelspec": {
   "display_name": "Python 3",
   "language": "python",
   "name": "python3"
  },
  "language_info": {
   "codemirror_mode": {
    "name": "ipython",
    "version": 3
   },
   "file_extension": ".py",
   "mimetype": "text/x-python",
   "name": "python",
   "nbconvert_exporter": "python",
   "pygments_lexer": "ipython3",
   "version": "3.10.12"
  },
  "orig_nbformat": 4
 },
 "nbformat": 4,
 "nbformat_minor": 2
}
